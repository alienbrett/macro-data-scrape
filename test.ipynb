{
 "cells": [
  {
   "cell_type": "code",
   "execution_count": 1,
   "metadata": {},
   "outputs": [],
   "source": [
    "# !pip install httpx pandas numpy beautifulsoup4\n",
    "# !pip install -e .\n",
    "%load_ext autoreload\n",
    "%autoreload 2\n",
    "\n",
    "import asyncio\n",
    "import httpx\n",
    "import urllib\n",
    "import datetime\n",
    "import numpy as np\n",
    "import pandas as pd\n",
    "import dataclasses\n",
    "import typing\n",
    "import math\n",
    "import time\n",
    "import calendar\n",
    "from bs4 import BeautifulSoup\n",
    "\n",
    "import nest_asyncio\n",
    "nest_asyncio.apply()\n",
    "\n",
    "from macro_scrape.headers import *"
   ]
  },
  {
   "cell_type": "code",
   "execution_count": 2,
   "metadata": {},
   "outputs": [],
   "source": [
    "import asyncio\n",
    "import json\n",
    "from typing import Optional, List, Literal, Union\n",
    "\n",
    "\n",
    "@dataclasses.dataclass\n",
    "class SecuritySearchObj:\n",
    "    isinType            : Literal['Primary Isin', ]     = 'Primary Isin'\n",
    "    instrumentCategory  : Literal['01-All']             = '01-All'\n",
    "    annaStatus          : Literal['1 All']              = '1 All'\n",
    "    country             : Literal['All',]               = 'All'\n",
    "    issueCurrency       : Literal['All',]               = 'All'\n",
    "    entityNameOpton1    : Literal['1-ISSUER_NAMELONG',] = '1-ISSUER_NAMELONG'\n",
    "    entityNameOpton2    : Literal['3 Contains',]        = '3 Contains'\n",
    "    Search              : Literal['Search']             = 'Search'\n",
    "    entityName          : Optional[str] = None\n",
    "    isinValue           : Optional[str] = None\n",
    "    rateFrom            : Optional[str] = None\n",
    "    rateTo              : Optional[str] = None\n",
    "    maturityFrom        : Optional[str] = None\n",
    "    maturityTo          : Optional[str] = None\n",
    "    updateFrom          : Optional[str] = None\n",
    "    updateTo            : Optional[str] = None\n",
    "\n",
    "\n",
    "\n",
    "base_url = 'https://www.annaservice.com'\n",
    "\n",
    "\n",
    "@dataclasses.dataclass\n",
    "class ISINSearchObj:\n",
    "    '''Logs into Anna ISIN search service\n",
    "    '''\n",
    "    username    : str\n",
    "    password    : str\n",
    "\n",
    "    timeout     : float                         = 10.0\n",
    "    client      : Optional[httpx.AsyncClient]   = None\n",
    "    _csrf       : Optional[str]                 = None\n",
    "\n",
    "\n",
    "    async def __aenter__(self,):\n",
    "        self.client = await httpx.AsyncClient(headers=headers, timeout=self.timeout).__aenter__()\n",
    "        await self.login()\n",
    "        return self\n",
    "\n",
    "    async def __aexit__(self, *args, **kwargs):\n",
    "        await self.client.__aexit__(*args, **kwargs)\n",
    "\n",
    "\n",
    "    @staticmethod\n",
    "    def get_page_secret(text:str) -> str:\n",
    "        soup = BeautifulSoup(text)\n",
    "        id_tags = soup.findAll(\"input\", {\"type\" : \"hidden\", 'name':'_csrf'})\n",
    "        id_tag = id_tags[0]\n",
    "        secret = id_tag['value']\n",
    "        return secret\n",
    "\n",
    "\n",
    "    async def login(self,):\n",
    "        landing_url = urllib.parse.urljoin(base_url,'/isinlookup/login')\n",
    "        login_url = urllib.parse.urljoin(base_url,'/isinlookup/authenticate')\n",
    "        page = await self.client.get(landing_url)\n",
    "        page.raise_for_status()\n",
    "        login_data = {\n",
    "            'username':self.username,\n",
    "            'password':self.password,\n",
    "            '_csrf': ISINSearchObj.get_page_secret(page.text),\n",
    "        }\n",
    "\n",
    "        page = await self.client.post(login_url, data=login_data, follow_redirects=True)\n",
    "        page.raise_for_status()\n",
    "        # print('logged in successfully')\n",
    "        # Give the client the secret we were given\n",
    "        self._csrf = ISINSearchObj.get_page_secret(page.text)\n",
    "    \n",
    "\n",
    "    async def search_securities(self, search_obj : SecuritySearchObj):\n",
    "        search_url = urllib.parse.urljoin(base_url,'/isinlookup/search')\n",
    "\n",
    "        data = dataclasses.asdict(search_obj)\n",
    "\n",
    "        if self._csrf is None:\n",
    "            page = await self.client.get(search_url, follow_redirects=True)\n",
    "            page.raise_for_status()\n",
    "            self._csrf = ISINSearchObj.get_page_secret(page.text)\n",
    "        \n",
    "        data['_csrf'] = self._csrf\n",
    "\n",
    "        page = await self.client.post(search_url, data = data, follow_redirects=True)\n",
    "        self._csrf = None\n",
    "        page.raise_for_status()\n",
    "        # print(page.text)\n",
    "        response = page.text.split('eval(\"results = \" +')[1].split(';')[0][1:-2]\n",
    "        # print(response)\n",
    "        response_js = json.loads(response)\n",
    "        return pd.DataFrame(response_js['response']['isinRecords'])\n",
    "        # return None\n"
   ]
  },
  {
   "cell_type": "code",
   "execution_count": 3,
   "metadata": {},
   "outputs": [
    {
     "ename": "NameError",
     "evalue": "name 'username' is not defined",
     "output_type": "error",
     "traceback": [
      "\u001b[1;31m---------------------------------------------------------------------------\u001b[0m",
      "\u001b[1;31mNameError\u001b[0m                                 Traceback (most recent call last)",
      "\u001b[1;32mc:\\Users\\alien\\Documents\\GitHub\\macro-data-scrape\\test.ipynb Cell 3\u001b[0m in \u001b[0;36m<cell line: 15>\u001b[1;34m()\u001b[0m\n\u001b[0;32m     <a href='vscode-notebook-cell:/c%3A/Users/alien/Documents/GitHub/macro-data-scrape/test.ipynb#W3sZmlsZQ%3D%3D?line=10'>11</a>\u001b[0m         df \u001b[39m=\u001b[39m \u001b[39mawait\u001b[39;00m client\u001b[39m.\u001b[39msearch_securities(search_obj \u001b[39m=\u001b[39m obj)\n\u001b[0;32m     <a href='vscode-notebook-cell:/c%3A/Users/alien/Documents/GitHub/macro-data-scrape/test.ipynb#W3sZmlsZQ%3D%3D?line=11'>12</a>\u001b[0m         \u001b[39mprint\u001b[39m(df)\n\u001b[1;32m---> <a href='vscode-notebook-cell:/c%3A/Users/alien/Documents/GitHub/macro-data-scrape/test.ipynb#W3sZmlsZQ%3D%3D?line=14'>15</a>\u001b[0m asyncio\u001b[39m.\u001b[39;49mrun(main())\n",
      "File \u001b[1;32mc:\\Users\\alien\\AppData\\Local\\Programs\\Python\\Python39\\lib\\site-packages\\nest_asyncio.py:35\u001b[0m, in \u001b[0;36m_patch_asyncio.<locals>.run\u001b[1;34m(main, debug)\u001b[0m\n\u001b[0;32m     33\u001b[0m task \u001b[39m=\u001b[39m asyncio\u001b[39m.\u001b[39mensure_future(main)\n\u001b[0;32m     34\u001b[0m \u001b[39mtry\u001b[39;00m:\n\u001b[1;32m---> 35\u001b[0m     \u001b[39mreturn\u001b[39;00m loop\u001b[39m.\u001b[39;49mrun_until_complete(task)\n\u001b[0;32m     36\u001b[0m \u001b[39mfinally\u001b[39;00m:\n\u001b[0;32m     37\u001b[0m     \u001b[39mif\u001b[39;00m \u001b[39mnot\u001b[39;00m task\u001b[39m.\u001b[39mdone():\n",
      "File \u001b[1;32mc:\\Users\\alien\\AppData\\Local\\Programs\\Python\\Python39\\lib\\site-packages\\nest_asyncio.py:89\u001b[0m, in \u001b[0;36m_patch_loop.<locals>.run_until_complete\u001b[1;34m(self, future)\u001b[0m\n\u001b[0;32m     86\u001b[0m \u001b[39mif\u001b[39;00m \u001b[39mnot\u001b[39;00m f\u001b[39m.\u001b[39mdone():\n\u001b[0;32m     87\u001b[0m     \u001b[39mraise\u001b[39;00m \u001b[39mRuntimeError\u001b[39;00m(\n\u001b[0;32m     88\u001b[0m         \u001b[39m'\u001b[39m\u001b[39mEvent loop stopped before Future completed.\u001b[39m\u001b[39m'\u001b[39m)\n\u001b[1;32m---> 89\u001b[0m \u001b[39mreturn\u001b[39;00m f\u001b[39m.\u001b[39;49mresult()\n",
      "File \u001b[1;32mc:\\Users\\alien\\AppData\\Local\\Programs\\Python\\Python39\\lib\\asyncio\\futures.py:201\u001b[0m, in \u001b[0;36mFuture.result\u001b[1;34m(self)\u001b[0m\n\u001b[0;32m    199\u001b[0m \u001b[39mself\u001b[39m\u001b[39m.\u001b[39m__log_traceback \u001b[39m=\u001b[39m \u001b[39mFalse\u001b[39;00m\n\u001b[0;32m    200\u001b[0m \u001b[39mif\u001b[39;00m \u001b[39mself\u001b[39m\u001b[39m.\u001b[39m_exception \u001b[39mis\u001b[39;00m \u001b[39mnot\u001b[39;00m \u001b[39mNone\u001b[39;00m:\n\u001b[1;32m--> 201\u001b[0m     \u001b[39mraise\u001b[39;00m \u001b[39mself\u001b[39m\u001b[39m.\u001b[39m_exception\n\u001b[0;32m    202\u001b[0m \u001b[39mreturn\u001b[39;00m \u001b[39mself\u001b[39m\u001b[39m.\u001b[39m_result\n",
      "File \u001b[1;32mc:\\Users\\alien\\AppData\\Local\\Programs\\Python\\Python39\\lib\\asyncio\\tasks.py:256\u001b[0m, in \u001b[0;36mTask.__step\u001b[1;34m(***failed resolving arguments***)\u001b[0m\n\u001b[0;32m    252\u001b[0m \u001b[39mtry\u001b[39;00m:\n\u001b[0;32m    253\u001b[0m     \u001b[39mif\u001b[39;00m exc \u001b[39mis\u001b[39;00m \u001b[39mNone\u001b[39;00m:\n\u001b[0;32m    254\u001b[0m         \u001b[39m# We use the `send` method directly, because coroutines\u001b[39;00m\n\u001b[0;32m    255\u001b[0m         \u001b[39m# don't have `__iter__` and `__next__` methods.\u001b[39;00m\n\u001b[1;32m--> 256\u001b[0m         result \u001b[39m=\u001b[39m coro\u001b[39m.\u001b[39;49msend(\u001b[39mNone\u001b[39;49;00m)\n\u001b[0;32m    257\u001b[0m     \u001b[39melse\u001b[39;00m:\n\u001b[0;32m    258\u001b[0m         result \u001b[39m=\u001b[39m coro\u001b[39m.\u001b[39mthrow(exc)\n",
      "\u001b[1;32mc:\\Users\\alien\\Documents\\GitHub\\macro-data-scrape\\test.ipynb Cell 3\u001b[0m in \u001b[0;36mmain\u001b[1;34m()\u001b[0m\n\u001b[0;32m      <a href='vscode-notebook-cell:/c%3A/Users/alien/Documents/GitHub/macro-data-scrape/test.ipynb#W3sZmlsZQ%3D%3D?line=3'>4</a>\u001b[0m \u001b[39masync\u001b[39;00m \u001b[39mdef\u001b[39;00m \u001b[39mmain\u001b[39m():\n\u001b[0;32m      <a href='vscode-notebook-cell:/c%3A/Users/alien/Documents/GitHub/macro-data-scrape/test.ipynb#W3sZmlsZQ%3D%3D?line=4'>5</a>\u001b[0m     \u001b[39mglobal\u001b[39;00m df\n\u001b[1;32m----> <a href='vscode-notebook-cell:/c%3A/Users/alien/Documents/GitHub/macro-data-scrape/test.ipynb#W3sZmlsZQ%3D%3D?line=5'>6</a>\u001b[0m     \u001b[39masync\u001b[39;00m \u001b[39mwith\u001b[39;00m ISINSearchObj(username\u001b[39m=\u001b[39musername, password\u001b[39m=\u001b[39mpassword) \u001b[39mas\u001b[39;00m client:\n\u001b[0;32m      <a href='vscode-notebook-cell:/c%3A/Users/alien/Documents/GitHub/macro-data-scrape/test.ipynb#W3sZmlsZQ%3D%3D?line=6'>7</a>\u001b[0m         obj \u001b[39m=\u001b[39m SecuritySearchObj(\n\u001b[0;32m      <a href='vscode-notebook-cell:/c%3A/Users/alien/Documents/GitHub/macro-data-scrape/test.ipynb#W3sZmlsZQ%3D%3D?line=7'>8</a>\u001b[0m             isinValue \u001b[39m=\u001b[39m \u001b[39m'\u001b[39m\u001b[39mUS0378331005\u001b[39m\u001b[39m'\u001b[39m,\n\u001b[0;32m      <a href='vscode-notebook-cell:/c%3A/Users/alien/Documents/GitHub/macro-data-scrape/test.ipynb#W3sZmlsZQ%3D%3D?line=8'>9</a>\u001b[0m             \u001b[39m# entityName = 'apple',\u001b[39;00m\n\u001b[0;32m     <a href='vscode-notebook-cell:/c%3A/Users/alien/Documents/GitHub/macro-data-scrape/test.ipynb#W3sZmlsZQ%3D%3D?line=9'>10</a>\u001b[0m         )\n\u001b[0;32m     <a href='vscode-notebook-cell:/c%3A/Users/alien/Documents/GitHub/macro-data-scrape/test.ipynb#W3sZmlsZQ%3D%3D?line=10'>11</a>\u001b[0m         df \u001b[39m=\u001b[39m \u001b[39mawait\u001b[39;00m client\u001b[39m.\u001b[39msearch_securities(search_obj \u001b[39m=\u001b[39m obj)\n",
      "\u001b[1;31mNameError\u001b[0m: name 'username' is not defined"
     ]
    }
   ],
   "source": [
    "df = None\n",
    "    \n",
    "\n",
    "async def main():\n",
    "    global df\n",
    "    async with ISINSearchObj(username=username, password=password) as client:\n",
    "        obj = SecuritySearchObj(\n",
    "            isinValue = 'US0378331005',\n",
    "            # entityName = 'apple',\n",
    "        )\n",
    "        df = await client.search_securities(search_obj = obj)\n",
    "        print(df)\n",
    "\n",
    "\n",
    "asyncio.run(main())\n"
   ]
  },
  {
   "cell_type": "code",
   "execution_count": null,
   "metadata": {},
   "outputs": [
    {
     "data": {
      "text/plain": [
       "fisn                  APPLE INC/SH SH\n",
       "instrumentCategory                 EQ\n",
       "issueCurrency                     USD\n",
       "issuerNameLong              APPLE INC\n",
       "entryDate                  06/26/2001\n",
       "modifiedDate               11/25/2021\n",
       "cfiCode                        ESVUFR\n",
       "isin                     US0378331005\n",
       "issueDescription                  COM\n",
       "issuerRegCountry                   US\n",
       "status                              N\n",
       "Name: 0, dtype: object"
      ]
     },
     "execution_count": 121,
     "metadata": {},
     "output_type": "execute_result"
    }
   ],
   "source": [
    "\n",
    "df.iloc[0]\n"
   ]
  }
 ],
 "metadata": {
  "kernelspec": {
   "display_name": "Python 3.9.4 64-bit",
   "language": "python",
   "name": "python3"
  },
  "language_info": {
   "codemirror_mode": {
    "name": "ipython",
    "version": 3
   },
   "file_extension": ".py",
   "mimetype": "text/x-python",
   "name": "python",
   "nbconvert_exporter": "python",
   "pygments_lexer": "ipython3",
   "version": "3.9.4"
  },
  "orig_nbformat": 4,
  "vscode": {
   "interpreter": {
    "hash": "838f0357ec250af6d70920a5dd352757dc63fe1580ddc14357402bf40991ecc9"
   }
  }
 },
 "nbformat": 4,
 "nbformat_minor": 2
}
